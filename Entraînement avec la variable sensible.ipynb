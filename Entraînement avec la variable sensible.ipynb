{
 "cells": [
  {
   "cell_type": "code",
   "execution_count": 1,
   "id": "f9fb9540-737a-4590-9a3c-ccb5368e6d65",
   "metadata": {},
   "outputs": [
    {
     "name": "stderr",
     "output_type": "stream",
     "text": [
      "2023-08-11 14:53:40.261784: I tensorflow/core/util/util.cc:169] oneDNN custom operations are on. You may see slightly different numerical results due to floating-point round-off errors from different computation orders. To turn them off, set the environment variable `TF_ENABLE_ONEDNN_OPTS=0`.\n",
      "2023-08-11 14:53:40.297340: W tensorflow/stream_executor/platform/default/dso_loader.cc:64] Could not load dynamic library 'libcudart.so.11.0'; dlerror: libcudart.so.11.0: cannot open shared object file: No such file or directory\n",
      "2023-08-11 14:53:40.297390: I tensorflow/stream_executor/cuda/cudart_stub.cc:29] Ignore above cudart dlerror if you do not have a GPU set up on your machine.\n",
      "2023-08-11 14:53:44.463185: W tensorflow/stream_executor/platform/default/dso_loader.cc:64] Could not load dynamic library 'libcuda.so.1'; dlerror: libcuda.so.1: cannot open shared object file: No such file or directory\n",
      "2023-08-11 14:53:44.463205: W tensorflow/stream_executor/cuda/cuda_driver.cc:269] failed call to cuInit: UNKNOWN ERROR (303)\n",
      "2023-08-11 14:53:44.463223: I tensorflow/stream_executor/cuda/cuda_diagnostics.cc:156] kernel driver does not appear to be running on this host (valnan): /proc/driver/nvidia/version does not exist\n",
      "2023-08-11 14:53:44.464151: I tensorflow/core/platform/cpu_feature_guard.cc:193] This TensorFlow binary is optimized with oneAPI Deep Neural Network Library (oneDNN) to use the following CPU instructions in performance-critical operations:  AVX2 AVX_VNNI FMA\n",
      "To enable them in other operations, rebuild TensorFlow with the appropriate compiler flags.\n",
      "[nltk_data] Downloading package stopwords to\n",
      "[nltk_data]     /home/titontshiongo/nltk_data...\n",
      "[nltk_data]   Package stopwords is already up-to-date!\n"
     ]
    }
   ],
   "source": [
    "import pandas as pd\n",
    "import numpy as np\n",
    "import matplotlib.pyplot as plt\n",
    "import seaborn as sns\n",
    "import tensorflow as tf\n",
    "import keras\n",
    "from sklearn.model_selection import train_test_split\n",
    "from sklearn.metrics import accuracy_score, confusion_matrix,classification_report\n",
    "from transformers import DistilBertConfig,RobertaConfig\n",
    "from transformers import DistilBertTokenizer,DistilBertTokenizerFast\n",
    "from transformers import DistilBertForSequenceClassification,DistilBertModel\n",
    "from transformers import TFDistilBertForSequenceClassification,TFDistilBertModel\n",
    "from transformers import RobertaTokenizer, TFRobertaModel\n",
    "from tqdm import tqdm\n",
    "from tensorflow.keras.callbacks import ModelCheckpoint,EarlyStopping\n",
    "import os\n",
    "from tensorflow.keras.layers import Dense,Dropout, Input\n",
    "from tensorflow.keras import regularizers\n",
    "\n",
    "\n",
    "import re\n",
    "import nltk\n",
    "from nltk.corpus import stopwords\n",
    "nltk.download('stopwords')\n",
    "stopw= stopwords.words('english')"
   ]
  },
  {
   "cell_type": "code",
   "execution_count": 2,
   "id": "33277263-41e2-42d9-9aa4-12349df1b35b",
   "metadata": {},
   "outputs": [],
   "source": [
    "train= pd.read_csv('emotion_train.txt',delimiter=';',header=None,names=['sentence','label'])\n",
    "test= pd.read_csv ('emotion_test.txt',delimiter=';',header=None,names=['sentence','label'])\n",
    "valid= pd.read_csv('emotion_val.txt',delimiter=';',header=None, names=['sentence','label'])"
   ]
  },
  {
   "cell_type": "code",
   "execution_count": 3,
   "id": "62401de0-d571-40d3-ba68-582c8c429f16",
   "metadata": {},
   "outputs": [],
   "source": [
    "df=pd.concat([train,test,valid])"
   ]
  },
  {
   "cell_type": "code",
   "execution_count": 4,
   "id": "d64e8557-b224-4180-9e0a-9bf60f271b09",
   "metadata": {},
   "outputs": [
    {
     "data": {
      "text/html": [
       "<div>\n",
       "<style scoped>\n",
       "    .dataframe tbody tr th:only-of-type {\n",
       "        vertical-align: middle;\n",
       "    }\n",
       "\n",
       "    .dataframe tbody tr th {\n",
       "        vertical-align: top;\n",
       "    }\n",
       "\n",
       "    .dataframe thead th {\n",
       "        text-align: right;\n",
       "    }\n",
       "</style>\n",
       "<table border=\"1\" class=\"dataframe\">\n",
       "  <thead>\n",
       "    <tr style=\"text-align: right;\">\n",
       "      <th></th>\n",
       "      <th>sentence</th>\n",
       "      <th>label</th>\n",
       "    </tr>\n",
       "  </thead>\n",
       "  <tbody>\n",
       "    <tr>\n",
       "      <th>0</th>\n",
       "      <td>i didnt feel humiliated</td>\n",
       "      <td>sadness</td>\n",
       "    </tr>\n",
       "    <tr>\n",
       "      <th>1</th>\n",
       "      <td>i can go from feeling so hopeless to so damned...</td>\n",
       "      <td>sadness</td>\n",
       "    </tr>\n",
       "    <tr>\n",
       "      <th>2</th>\n",
       "      <td>im grabbing a minute to post i feel greedy wrong</td>\n",
       "      <td>anger</td>\n",
       "    </tr>\n",
       "    <tr>\n",
       "      <th>3</th>\n",
       "      <td>i am ever feeling nostalgic about the fireplac...</td>\n",
       "      <td>love</td>\n",
       "    </tr>\n",
       "    <tr>\n",
       "      <th>4</th>\n",
       "      <td>i am feeling grouchy</td>\n",
       "      <td>anger</td>\n",
       "    </tr>\n",
       "  </tbody>\n",
       "</table>\n",
       "</div>"
      ],
      "text/plain": [
       "                                            sentence    label\n",
       "0                            i didnt feel humiliated  sadness\n",
       "1  i can go from feeling so hopeless to so damned...  sadness\n",
       "2   im grabbing a minute to post i feel greedy wrong    anger\n",
       "3  i am ever feeling nostalgic about the fireplac...     love\n",
       "4                               i am feeling grouchy    anger"
      ]
     },
     "execution_count": 4,
     "metadata": {},
     "output_type": "execute_result"
    }
   ],
   "source": [
    "df.head()"
   ]
  },
  {
   "cell_type": "code",
   "execution_count": 5,
   "id": "5dbaf2b9-6fb9-4e70-909c-513265e21a5f",
   "metadata": {},
   "outputs": [],
   "source": [
    "df['encoded_labels'] = df['label'].astype('category').cat.codes"
   ]
  },
  {
   "cell_type": "markdown",
   "id": "1a2e50b7-d1a7-4b4d-b8a4-a069705d6d70",
   "metadata": {},
   "source": [
    "# Analyse semi-supervisé nous a permis d'identifier comme possible variable sensible(taille des phrases): phrase courte Vs phrase longue\n",
    "#  un seuil fixe <=20 mots: si le mot dans la phrase est <=20, phrase courte S=0 \n",
    "#                           si le mot dans la phrase est >20, phrase longue S=1 "
   ]
  },
  {
   "cell_type": "code",
   "execution_count": 6,
   "id": "ba03af93-693d-4bb0-b190-aa88a5828009",
   "metadata": {},
   "outputs": [],
   "source": [
    "# Création de la variable sensible dans le jeu de données à l'aide des fonction suivantes\n",
    "\n",
    "def count_words(sentence, threshold):\n",
    "    word_count = len(sentence.split())\n",
    "    if word_count <= threshold:\n",
    "        return 0\n",
    "    else:\n",
    "        return 1\n",
    "\n",
    "def add_word_count_column(dataset, sentence_column, threshold):\n",
    "    dataset['sensitive_variable'] = dataset[sentence_column].apply(lambda x: count_words(x, threshold))\n",
    "    return dataset"
   ]
  },
  {
   "cell_type": "code",
   "execution_count": 7,
   "id": "20a72afa-2fc5-4f39-83e0-5f1b96cc060c",
   "metadata": {},
   "outputs": [],
   "source": [
    "df = add_word_count_column(df, 'sentence', 20)"
   ]
  },
  {
   "cell_type": "code",
   "execution_count": 8,
   "id": "c7802f19-fbbf-40af-b105-7d828e5367b3",
   "metadata": {},
   "outputs": [
    {
     "data": {
      "text/html": [
       "<div>\n",
       "<style scoped>\n",
       "    .dataframe tbody tr th:only-of-type {\n",
       "        vertical-align: middle;\n",
       "    }\n",
       "\n",
       "    .dataframe tbody tr th {\n",
       "        vertical-align: top;\n",
       "    }\n",
       "\n",
       "    .dataframe thead th {\n",
       "        text-align: right;\n",
       "    }\n",
       "</style>\n",
       "<table border=\"1\" class=\"dataframe\">\n",
       "  <thead>\n",
       "    <tr style=\"text-align: right;\">\n",
       "      <th></th>\n",
       "      <th>sentence</th>\n",
       "      <th>label</th>\n",
       "      <th>encoded_labels</th>\n",
       "      <th>sensitive_variable</th>\n",
       "    </tr>\n",
       "  </thead>\n",
       "  <tbody>\n",
       "    <tr>\n",
       "      <th>0</th>\n",
       "      <td>i didnt feel humiliated</td>\n",
       "      <td>sadness</td>\n",
       "      <td>4</td>\n",
       "      <td>0</td>\n",
       "    </tr>\n",
       "    <tr>\n",
       "      <th>1</th>\n",
       "      <td>i can go from feeling so hopeless to so damned...</td>\n",
       "      <td>sadness</td>\n",
       "      <td>4</td>\n",
       "      <td>1</td>\n",
       "    </tr>\n",
       "    <tr>\n",
       "      <th>2</th>\n",
       "      <td>im grabbing a minute to post i feel greedy wrong</td>\n",
       "      <td>anger</td>\n",
       "      <td>0</td>\n",
       "      <td>0</td>\n",
       "    </tr>\n",
       "    <tr>\n",
       "      <th>3</th>\n",
       "      <td>i am ever feeling nostalgic about the fireplac...</td>\n",
       "      <td>love</td>\n",
       "      <td>3</td>\n",
       "      <td>0</td>\n",
       "    </tr>\n",
       "    <tr>\n",
       "      <th>4</th>\n",
       "      <td>i am feeling grouchy</td>\n",
       "      <td>anger</td>\n",
       "      <td>0</td>\n",
       "      <td>0</td>\n",
       "    </tr>\n",
       "  </tbody>\n",
       "</table>\n",
       "</div>"
      ],
      "text/plain": [
       "                                            sentence    label  encoded_labels  \\\n",
       "0                            i didnt feel humiliated  sadness               4   \n",
       "1  i can go from feeling so hopeless to so damned...  sadness               4   \n",
       "2   im grabbing a minute to post i feel greedy wrong    anger               0   \n",
       "3  i am ever feeling nostalgic about the fireplac...     love               3   \n",
       "4                               i am feeling grouchy    anger               0   \n",
       "\n",
       "   sensitive_variable  \n",
       "0                   0  \n",
       "1                   1  \n",
       "2                   0  \n",
       "3                   0  \n",
       "4                   0  "
      ]
     },
     "execution_count": 8,
     "metadata": {},
     "output_type": "execute_result"
    }
   ],
   "source": [
    "df.head()"
   ]
  },
  {
   "cell_type": "code",
   "execution_count": 9,
   "id": "285560b3-248b-492d-8ab7-d406e388b0b5",
   "metadata": {},
   "outputs": [],
   "source": [
    "# récupération des données du groupe S=0\n",
    "df_S0=df[df.sensitive_variable == 0]\n",
    "# récupération des données du groupe S=1\n",
    "df_S1=df[df.sensitive_variable == 1]"
   ]
  },
  {
   "cell_type": "code",
   "execution_count": 10,
   "id": "129463e0-00b4-4250-86e6-566ba2d45715",
   "metadata": {},
   "outputs": [
    {
     "data": {
      "text/html": [
       "<div>\n",
       "<style scoped>\n",
       "    .dataframe tbody tr th:only-of-type {\n",
       "        vertical-align: middle;\n",
       "    }\n",
       "\n",
       "    .dataframe tbody tr th {\n",
       "        vertical-align: top;\n",
       "    }\n",
       "\n",
       "    .dataframe thead th {\n",
       "        text-align: right;\n",
       "    }\n",
       "</style>\n",
       "<table border=\"1\" class=\"dataframe\">\n",
       "  <thead>\n",
       "    <tr style=\"text-align: right;\">\n",
       "      <th></th>\n",
       "      <th>sentence</th>\n",
       "      <th>label</th>\n",
       "      <th>encoded_labels</th>\n",
       "      <th>sensitive_variable</th>\n",
       "    </tr>\n",
       "  </thead>\n",
       "  <tbody>\n",
       "    <tr>\n",
       "      <th>1</th>\n",
       "      <td>i can go from feeling so hopeless to so damned...</td>\n",
       "      <td>sadness</td>\n",
       "      <td>4</td>\n",
       "      <td>1</td>\n",
       "    </tr>\n",
       "    <tr>\n",
       "      <th>6</th>\n",
       "      <td>ive been taking or milligrams or times recomme...</td>\n",
       "      <td>surprise</td>\n",
       "      <td>5</td>\n",
       "      <td>1</td>\n",
       "    </tr>\n",
       "    <tr>\n",
       "      <th>11</th>\n",
       "      <td>i do feel that running is a divine experience ...</td>\n",
       "      <td>joy</td>\n",
       "      <td>2</td>\n",
       "      <td>1</td>\n",
       "    </tr>\n",
       "    <tr>\n",
       "      <th>14</th>\n",
       "      <td>i have immense sympathy with the general point...</td>\n",
       "      <td>joy</td>\n",
       "      <td>2</td>\n",
       "      <td>1</td>\n",
       "    </tr>\n",
       "    <tr>\n",
       "      <th>18</th>\n",
       "      <td>i started feeling sentimental about dolls i ha...</td>\n",
       "      <td>sadness</td>\n",
       "      <td>4</td>\n",
       "      <td>1</td>\n",
       "    </tr>\n",
       "  </tbody>\n",
       "</table>\n",
       "</div>"
      ],
      "text/plain": [
       "                                             sentence     label  \\\n",
       "1   i can go from feeling so hopeless to so damned...   sadness   \n",
       "6   ive been taking or milligrams or times recomme...  surprise   \n",
       "11  i do feel that running is a divine experience ...       joy   \n",
       "14  i have immense sympathy with the general point...       joy   \n",
       "18  i started feeling sentimental about dolls i ha...   sadness   \n",
       "\n",
       "    encoded_labels  sensitive_variable  \n",
       "1                4                   1  \n",
       "6                5                   1  \n",
       "11               2                   1  \n",
       "14               2                   1  \n",
       "18               4                   1  "
      ]
     },
     "execution_count": 10,
     "metadata": {},
     "output_type": "execute_result"
    }
   ],
   "source": [
    "df_S1.head()"
   ]
  },
  {
   "cell_type": "code",
   "execution_count": 11,
   "id": "ecef24e2-f211-488c-8138-ea32b5fe36d5",
   "metadata": {},
   "outputs": [],
   "source": [
    "# Transformation de la variable sentence et encoded_labels en objet liste pour le groupe S=0 etS=1\n",
    "data_texts_s0= df_S0['sentence'].tolist()\n",
    "data_label_s0= df_S0['encoded_labels'].tolist()\n",
    "data_texts_s1= df_S1['sentence'].tolist()\n",
    "data_label_s1= df_S1['encoded_labels'].tolist()"
   ]
  },
  {
   "cell_type": "code",
   "execution_count": 12,
   "id": "16e936cf-bd38-48c1-92e3-29a15020f71f",
   "metadata": {},
   "outputs": [
    {
     "data": {
      "text/plain": [
       "(12386, 12386)"
      ]
     },
     "execution_count": 12,
     "metadata": {},
     "output_type": "execute_result"
    }
   ],
   "source": [
    "# Pour le groupe S=0\n",
    "max_len=512\n",
    "num_classes_S0=len(df_S0['label'].unique())\n",
    "sentences_S0=df_S0['sentence'].tolist()\n",
    "labels_S0=df_S0['encoded_labels']\n",
    "len(sentences_S0),len(labels_S0)"
   ]
  },
  {
   "cell_type": "code",
   "execution_count": 13,
   "id": "93a7cab9-9d5c-4a22-ad51-cb91f9d8c0ae",
   "metadata": {},
   "outputs": [
    {
     "name": "stderr",
     "output_type": "stream",
     "text": [
      "/home/titontshiongo/anaconda3/lib/python3.10/site-packages/transformers/tokenization_utils_base.py:2301: FutureWarning: The `pad_to_max_length` argument is deprecated and will be removed in a future version, use `padding=True` or `padding='longest'` to pad to the longest sequence in the batch, or use `padding='max_length'` to pad to a max length. In this case, you can give a specific length with `max_length` (e.g. `max_length=45`) or leave max_length to None to pad to the maximal input size of the model (e.g. 512 for Bert).\n",
      "  warnings.warn(\n"
     ]
    }
   ],
   "source": [
    "# Prepare the model input pour S=0\n",
    "dbert_tokenizer = DistilBertTokenizer.from_pretrained('distilbert-base-uncased')\n",
    "input_ids=[]\n",
    "attention_masks=[]\n",
    "\n",
    "for sent in sentences_S0:\n",
    "    dbert_inps=dbert_tokenizer.encode_plus(sent,add_special_tokens = True,max_length =max_len,pad_to_max_length = True,return_attention_mask = True,truncation=True)\n",
    "    input_ids.append(dbert_inps['input_ids'])\n",
    "    attention_masks.append(dbert_inps['attention_mask'])\n",
    "\n",
    "input_ids = np.asarray(input_ids)\n",
    "attention_masks = np.array(attention_masks)\n",
    "labels_S0 = np.array(labels_S0)"
   ]
  },
  {
   "cell_type": "code",
   "execution_count": 14,
   "id": "7558821e-0a20-48bf-a7e2-77fcc7aa323f",
   "metadata": {},
   "outputs": [],
   "source": [
    "# split data \n",
    "train_inp,val_inp,train_label,val_label,train_mask,val_mask=train_test_split(input_ids,labels_S0,attention_masks,test_size=0.2)\n",
    "\n",
    "train_label = np.array([np.array(val) for val in train_label])\n",
    "val_label = np.array([np.array(val) for val in val_label])"
   ]
  },
  {
   "cell_type": "markdown",
   "id": "e52b35da-be5d-464b-989a-5d58a10d2b6e",
   "metadata": {},
   "source": [
    "# Création du modèle DistilBert pour le sous-groupe S=0 (phrases courtes)"
   ]
  },
  {
   "cell_type": "code",
   "execution_count": 15,
   "id": "ee7d2865-6ea7-45ef-b053-3e6691af63f4",
   "metadata": {},
   "outputs": [
    {
     "name": "stderr",
     "output_type": "stream",
     "text": [
      "Some layers from the model checkpoint at distilbert-base-uncased were not used when initializing TFDistilBertModel: ['activation_13', 'vocab_transform', 'vocab_layer_norm', 'vocab_projector']\n",
      "- This IS expected if you are initializing TFDistilBertModel from the checkpoint of a model trained on another task or with another architecture (e.g. initializing a BertForSequenceClassification model from a BertForPreTraining model).\n",
      "- This IS NOT expected if you are initializing TFDistilBertModel from the checkpoint of a model that you expect to be exactly identical (initializing a BertForSequenceClassification model from a BertForSequenceClassification model).\n",
      "All the layers of TFDistilBertModel were initialized from the model checkpoint at distilbert-base-uncased.\n",
      "If your task is similar to the task the model of the checkpoint was trained on, you can already use TFDistilBertModel for predictions without further training.\n"
     ]
    }
   ],
   "source": [
    "# Distilbert sans régularisation\n",
    "dbert_model = TFDistilBertModel.from_pretrained('distilbert-base-uncased')\n",
    "\n",
    "def create_model():\n",
    "    inps = Input(shape = (max_len,), dtype='int64')\n",
    "    masks= Input(shape = (max_len,), dtype='int64')\n",
    "    \n",
    "    dbert_layer = dbert_model(inps, attention_mask=masks)[0][:,0,:]\n",
    "    dense = Dense(512,activation='relu')(dbert_layer)\n",
    "    \n",
    "    #dense = Dense(64,activation='relu',)(dense)\n",
    "    #taille 64: représentation latente des données\n",
    "    #dense = Dense(256,activation='relu',kernel_regularizer=regularizers.l2(0.01))(dense)\n",
    "    #dense = Dense(128,activation='relu',kernel_regularizer=regularizers.l2(0.01))(dense)\n",
    "    dropout= Dropout(0.5)(dense)\n",
    "    \n",
    "    pred = Dense(6, activation='softmax',)(dropout)\n",
    "    \n",
    "    model_S0 = tf.keras.Model(inputs=[inps,masks], outputs=pred)\n",
    "    \n",
    "    print(model_S0.summary())\n",
    "    return model_S0  "
   ]
  },
  {
   "cell_type": "code",
   "execution_count": 16,
   "id": "eb9fb99f-0f0a-48e2-b308-3c87459e0f32",
   "metadata": {},
   "outputs": [
    {
     "name": "stdout",
     "output_type": "stream",
     "text": [
      "Model: \"model\"\n",
      "__________________________________________________________________________________________________\n",
      " Layer (type)                   Output Shape         Param #     Connected to                     \n",
      "==================================================================================================\n",
      " input_1 (InputLayer)           [(None, 512)]        0           []                               \n",
      "                                                                                                  \n",
      " input_2 (InputLayer)           [(None, 512)]        0           []                               \n",
      "                                                                                                  \n",
      " tf_distil_bert_model (TFDistil  TFBaseModelOutput(l  66362880   ['input_1[0][0]',                \n",
      " BertModel)                     ast_hidden_state=(N               'input_2[0][0]']                \n",
      "                                one, 512, 768),                                                   \n",
      "                                 hidden_states=None                                               \n",
      "                                , attentions=None)                                                \n",
      "                                                                                                  \n",
      " tf.__operators__.getitem (Slic  (None, 768)         0           ['tf_distil_bert_model[0][0]']   \n",
      " ingOpLambda)                                                                                     \n",
      "                                                                                                  \n",
      " dense (Dense)                  (None, 512)          393728      ['tf.__operators__.getitem[0][0]'\n",
      "                                                                 ]                                \n",
      "                                                                                                  \n",
      " dropout_19 (Dropout)           (None, 512)          0           ['dense[0][0]']                  \n",
      "                                                                                                  \n",
      " dense_1 (Dense)                (None, 6)            3078        ['dropout_19[0][0]']             \n",
      "                                                                                                  \n",
      "==================================================================================================\n",
      "Total params: 66,759,686\n",
      "Trainable params: 66,759,686\n",
      "Non-trainable params: 0\n",
      "__________________________________________________________________________________________________\n",
      "None\n"
     ]
    }
   ],
   "source": [
    "model_S0=create_model()"
   ]
  },
  {
   "cell_type": "code",
   "execution_count": 18,
   "id": "977bd0ef-c5df-4be4-bab7-c1e01dcfae11",
   "metadata": {},
   "outputs": [],
   "source": [
    "#  learning rate recommandé pourl'optimizer Adam 5e-5, 3e-5, 2e-5: tiré du site Web huggingface\n",
    "\n",
    "loss = tf.keras.losses.SparseCategoricalCrossentropy()\n",
    "metric = tf.keras.metrics.SparseCategoricalAccuracy('accuracy')\n",
    "optimizer = tf.keras.optimizers.Adam(learning_rate=3e-5)\n",
    "\n",
    "early_stopping= EarlyStopping(patience=3,# stop après 3 epoch\n",
    "                              monitor='val_loss',# regarder la val_loss\n",
    "                              mode= 'min',\n",
    "                              min_delta=0,# changement après 0\n",
    "                              restore_best_weights=False,\n",
    "                              verbose=1)"
   ]
  },
  {
   "cell_type": "markdown",
   "id": "1034e8a3-0165-4d0e-bbd2-7115ec69ab61",
   "metadata": {},
   "source": [
    "# Entraînement pour le groupe le sous-groupe S=0"
   ]
  },
  {
   "cell_type": "code",
   "execution_count": 19,
   "id": "56245274-b705-49d9-b12d-a929cee33ff8",
   "metadata": {},
   "outputs": [
    {
     "name": "stdout",
     "output_type": "stream",
     "text": [
      "Epoch 1/10\n",
      "155/155 [==============================] - 3562s 23s/step - loss: 0.7668 - accuracy: 0.7216 - val_loss: 0.2404 - val_accuracy: 0.9185\n",
      "Epoch 2/10\n",
      "155/155 [==============================] - 3567s 23s/step - loss: 0.1984 - accuracy: 0.9235 - val_loss: 0.1865 - val_accuracy: 0.9262\n",
      "Epoch 3/10\n",
      "155/155 [==============================] - 3564s 23s/step - loss: 0.1178 - accuracy: 0.9499 - val_loss: 0.1621 - val_accuracy: 0.9241\n",
      "Epoch 4/10\n",
      "155/155 [==============================] - 3562s 23s/step - loss: 0.0978 - accuracy: 0.9580 - val_loss: 0.1612 - val_accuracy: 0.9237\n",
      "Epoch 5/10\n",
      "155/155 [==============================] - 3561s 23s/step - loss: 0.0773 - accuracy: 0.9637 - val_loss: 0.2016 - val_accuracy: 0.9282\n",
      "Epoch 6/10\n",
      "155/155 [==============================] - 3562s 23s/step - loss: 0.0664 - accuracy: 0.9703 - val_loss: 0.1991 - val_accuracy: 0.9237\n",
      "Epoch 7/10\n",
      "155/155 [==============================] - 3562s 23s/step - loss: 0.0599 - accuracy: 0.9735 - val_loss: 0.2237 - val_accuracy: 0.9278\n",
      "Epoch 7: early stopping\n"
     ]
    }
   ],
   "source": [
    "model_S0.compile(loss=loss,optimizer=optimizer, metrics=[metric])\n",
    "history=model_S0.fit([train_inp,train_mask],train_label,batch_size=64,epochs=50,validation_data=([val_inp,val_mask],val_label),callbacks=early_stopping)"
   ]
  },
  {
   "cell_type": "code",
   "execution_count": 31,
   "id": "130871c8-7b8a-4098-97d6-46aad546b6d2",
   "metadata": {},
   "outputs": [],
   "source": [
    "# sauvergade du modèle\n",
    "model_S0.save(\"myModel_S0.h5\")"
   ]
  },
  {
   "cell_type": "code",
   "execution_count": 20,
   "id": "4aa5dbea-0234-4ff4-b6ff-8ac064c12b60",
   "metadata": {},
   "outputs": [],
   "source": [
    "def plot_history(train_history):\n",
    "    acc = history.history['accuracy']\n",
    "    val_acc = history.history['val_accuracy']\n",
    "    loss = history.history['loss']\n",
    "    val_loss = train_history.history['val_loss']\n",
    "    x = range(1, len(acc) + 1)\n",
    "\n",
    "    plt.figure(figsize=(12, 5))\n",
    "    plt.subplot(1, 2, 1)\n",
    "    plt.plot(x, acc, 'b', label='Training acc')\n",
    "    plt.plot(x, val_acc, 'r', label='Validation acc')\n",
    "    plt.title('Training and validation accuracy')\n",
    "    plt.legend()\n",
    "    plt.subplot(1, 2, 2)\n",
    "    plt.plot(x, loss, 'b', label='Training loss')\n",
    "    plt.plot(x, val_loss, 'r', label='Validation loss')\n",
    "    plt.title('Training and validation loss')\n",
    "    plt.legend()\n",
    "    print(\"Lowest Validation Loss: epoch {}\".format(np.argmin(val_loss)+1))\n",
    "    print(\"Highest Validation Accuracy: epoch {}\".format(np.argmax(val_acc)+1))"
   ]
  },
  {
   "cell_type": "code",
   "execution_count": 21,
   "id": "94c8feb8-4095-49d2-a348-e9bdf11a3745",
   "metadata": {},
   "outputs": [
    {
     "name": "stdout",
     "output_type": "stream",
     "text": [
      "Lowest Validation Loss: epoch 4\n",
      "Highest Validation Accuracy: epoch 5\n"
     ]
    },
    {
     "data": {
      "image/png": "[encoded data removed]",
      "text/plain": [
       "<Figure size 1200x500 with 2 Axes>"
      ]
     },
     "metadata": {},
     "output_type": "display_data"
    }
   ],
   "source": [
    "\n",
    "plot_history(history)"
   ]
  },
  {
   "cell_type": "code",
   "execution_count": 22,
   "id": "ce9cfe4e-98d6-4e95-968e-70e69723af19",
   "metadata": {},
   "outputs": [
    {
     "name": "stdout",
     "output_type": "stream",
     "text": [
      "155/155 [==============================] - 273s 2s/step\n"
     ]
    }
   ],
   "source": [
    "preds = model_S0.predict([val_inp,val_mask],batch_size=16)"
   ]
  },
  {
   "cell_type": "code",
   "execution_count": 24,
   "id": "bb20cef9-56ea-452c-b4c2-ba8fc6163a4e",
   "metadata": {},
   "outputs": [],
   "source": [
    "pred_labels = preds.argmax(axis=1)"
   ]
  },
  {
   "cell_type": "code",
   "execution_count": 25,
   "id": "99cc5c5b-f43c-4b5a-a427-43767fbfe8ed",
   "metadata": {},
   "outputs": [
    {
     "name": "stdout",
     "output_type": "stream",
     "text": [
      "Classification Report\n",
      "              precision    recall  f1-score   support\n",
      "\n",
      "       anger       0.90      0.94      0.92       345\n",
      "        love       0.88      0.90      0.89       315\n",
      "         joy       0.96      0.93      0.95       827\n",
      "        fear       0.81      0.87      0.83       186\n",
      "     sadness       0.98      0.96      0.97       739\n",
      "    surprise       0.71      0.77      0.74        66\n",
      "\n",
      "    accuracy                           0.93      2478\n",
      "   macro avg       0.87      0.89      0.88      2478\n",
      "weighted avg       0.93      0.93      0.93      2478\n",
      "\n"
     ]
    }
   ],
   "source": [
    "# Rapport de classification avec régularisation\n",
    "\n",
    "target_names = ['anger', 'love', 'joy', 'fear', 'sadness', 'surprise']\n",
    "print('Classification Report')\n",
    "print(classification_report(val_label,pred_labels,target_names=target_names))"
   ]
  },
  {
   "cell_type": "code",
   "execution_count": 34,
   "id": "2a2c35bd-e29c-453e-ae6d-e4b0c0383bde",
   "metadata": {},
   "outputs": [
    {
     "name": "stderr",
     "output_type": "stream",
     "text": [
      "/tmp/ipykernel_5678/46156137.py:6: MatplotlibDeprecationWarning: The seaborn styles shipped by Matplotlib are deprecated since 3.6, as they no longer correspond to the styles shipped by seaborn. However, they will remain available as 'seaborn-v0_8-<style>'. Alternatively, directly use the seaborn API instead.\n",
      "  plt.style.use('seaborn')\n"
     ]
    },
    {
     "data": {
      "image/png": "[encoded data removed]",
      "text/plain": [
       "<Figure size 800x550 with 2 Axes>"
      ]
     },
     "metadata": {},
     "output_type": "display_data"
    }
   ],
   "source": [
    "\n",
    "\n",
    "# choix des couleurs: \"rocket\",\"crest\",\"mako\",\"flare\",\"magma\",\"coolwarm\",\"icefire\",\"vlag\",\"YlOrBr\",\"cubehelix\"\n",
    "\n",
    "# Matrice de confusion\n",
    "from sklearn.metrics import confusion_matrix, classification_report\n",
    "import matplotlib.pyplot as plt\n",
    "plt.style.use('seaborn')\n",
    "import seaborn as sns\n",
    "\n",
    "cm = confusion_matrix(val_label,pred_labels,)\n",
    "# plot confusion matrix\n",
    "sns.heatmap(cm, annot=False,fmt='d',cmap=\"icefire\",xticklabels=target_names,yticklabels=target_names)\n",
    "plt.xlabel('Predicted')\n",
    "plt.ylabel('Truth')\n",
    "plt.show()"
   ]
  },
  {
   "cell_type": "code",
   "execution_count": 40,
   "id": "b0657830-4c91-4063-879c-4b3148dde794",
   "metadata": {},
   "outputs": [],
   "source": [
    "# Voir le taux de bonne prédictions VS le taux de mauvaise prédiction dans le sous_groupe S=0\n",
    "tpr=np.sum((pred_labels.ravel()==1)*(val_label.ravel()==1)) / np.sum(pred_labels.ravel()==1)\n",
    "tnr=np.sum((pred_labels.ravel()==0)*(val_label.ravel()==0)) / np.sum(pred_labels.ravel()==0)"
   ]
  },
  {
   "cell_type": "code",
   "execution_count": 41,
   "id": "60288823-17bb-4149-96df-407a4169d120",
   "metadata": {},
   "outputs": [
    {
     "name": "stdout",
     "output_type": "stream",
     "text": [
      "True positive rate = 0.8950819672131147\n",
      "True negative rate = 0.9253731343283582\n"
     ]
    }
   ],
   "source": [
    "print(\"True positive rate =\",tpr)\n",
    "print(\"True negative rate =\",tnr)"
   ]
  },
  {
   "cell_type": "markdown",
   "id": "8d3d030a-6106-406e-b619-e58a409261dd",
   "metadata": {},
   "source": [
    "#  Entraînement Pour le sous-groupe S=1 (Phrase longue)"
   ]
  },
  {
   "cell_type": "code",
   "execution_count": 42,
   "id": "9ca4c4ec-0f9f-4e78-a8de-47282364f3fc",
   "metadata": {},
   "outputs": [
    {
     "data": {
      "text/plain": [
       "(7614, 7614)"
      ]
     },
     "execution_count": 42,
     "metadata": {},
     "output_type": "execute_result"
    }
   ],
   "source": [
    "# Pour le groupe S=1\n",
    "max_len=512\n",
    "num_classes_S1=len(df_S1['label'].unique())\n",
    "sentences_S1=df_S1['sentence'].tolist()\n",
    "labels_S1=df_S1['encoded_labels']\n",
    "len(sentences_S1),len(labels_S1)"
   ]
  },
  {
   "cell_type": "code",
   "execution_count": 43,
   "id": "fa47e9f3-22f9-4ace-98fe-343880b852a3",
   "metadata": {},
   "outputs": [
    {
     "name": "stderr",
     "output_type": "stream",
     "text": [
      "/home/titontshiongo/anaconda3/lib/python3.10/site-packages/transformers/tokenization_utils_base.py:2301: FutureWarning: The `pad_to_max_length` argument is deprecated and will be removed in a future version, use `padding=True` or `padding='longest'` to pad to the longest sequence in the batch, or use `padding='max_length'` to pad to a max length. In this case, you can give a specific length with `max_length` (e.g. `max_length=45`) or leave max_length to None to pad to the maximal input size of the model (e.g. 512 for Bert).\n",
      "  warnings.warn(\n"
     ]
    }
   ],
   "source": [
    "# Prepare the model input pour S=1\n",
    "dbert_tokenizer = DistilBertTokenizer.from_pretrained('distilbert-base-uncased')\n",
    "input_ids_S1=[]\n",
    "attention_masks_S1=[]\n",
    "\n",
    "for sent in sentences_S1:\n",
    "    dbert_inps=dbert_tokenizer.encode_plus(sent,add_special_tokens = True,max_length =max_len,pad_to_max_length = True,return_attention_mask = True,truncation=True)\n",
    "    input_ids_S1.append(dbert_inps['input_ids'])\n",
    "    attention_masks_S1.append(dbert_inps['attention_mask'])\n",
    "\n",
    "input_ids_S1 = np.asarray(input_ids_S1)\n",
    "attention_masks_S1 = np.array(attention_masks_S1)\n",
    "labels_S1 = np.array(labels_S1)"
   ]
  },
  {
   "cell_type": "code",
   "execution_count": 44,
   "id": "72d1fc95-8238-4eed-9ea6-f5d5d7bbd2fe",
   "metadata": {},
   "outputs": [],
   "source": [
    "# split data \n",
    "train_inp_S1,val_inp_S1,train_label_S1,val_label_S1,train_mask_S1,val_mask_S1=train_test_split(input_ids_S1,labels_S1,attention_masks_S1,test_size=0.2)\n",
    "\n",
    "train_label_S1 = np.array([np.array(val) for val in train_label_S1])\n",
    "val_label_S1 = np.array([np.array(val) for val in val_label_S1])"
   ]
  },
  {
   "cell_type": "code",
   "execution_count": 49,
   "id": "ed192077-9000-4a91-8b72-e0c29c7137e7",
   "metadata": {},
   "outputs": [
    {
     "name": "stderr",
     "output_type": "stream",
     "text": [
      "Some layers from the model checkpoint at distilbert-base-uncased were not used when initializing TFDistilBertModel: ['vocab_transform', 'vocab_projector', 'activation_13', 'vocab_layer_norm']\n",
      "- This IS expected if you are initializing TFDistilBertModel from the checkpoint of a model trained on another task or with another architecture (e.g. initializing a BertForSequenceClassification model from a BertForPreTraining model).\n",
      "- This IS NOT expected if you are initializing TFDistilBertModel from the checkpoint of a model that you expect to be exactly identical (initializing a BertForSequenceClassification model from a BertForSequenceClassification model).\n",
      "All the layers of TFDistilBertModel were initialized from the model checkpoint at distilbert-base-uncased.\n",
      "If your task is similar to the task the model of the checkpoint was trained on, you can already use TFDistilBertModel for predictions without further training.\n"
     ]
    }
   ],
   "source": [
    "# Distilbert sans régularisation\n",
    "dbert_model = TFDistilBertModel.from_pretrained('distilbert-base-uncased')\n",
    "\n",
    "def create_model():\n",
    "    inps = Input(shape = (max_len,), dtype='int64')\n",
    "    masks= Input(shape = (max_len,), dtype='int64')\n",
    "    \n",
    "    dbert_layer = dbert_model(inps, attention_mask=masks)[0][:,0,:]\n",
    "    dense = Dense(512,activation='relu')(dbert_layer)\n",
    "    \n",
    "    #dense = Dense(64,activation='relu',)(dense)\n",
    "    #taille 64: représentation latente des données\n",
    "    #dense = Dense(256,activation='relu',kernel_regularizer=regularizers.l2(0.01))(dense)\n",
    "    #dense = Dense(128,activation='relu',kernel_regularizer=regularizers.l2(0.01))(dense)\n",
    "    dropout= Dropout(0.5)(dense)\n",
    "    \n",
    "    pred = Dense(6, activation='softmax',)(dropout)\n",
    "    \n",
    "    model_S1 = tf.keras.Model(inputs=[inps,masks], outputs=pred)\n",
    "    \n",
    "    print(model_S1.summary())\n",
    "    return model_S1 "
   ]
  },
  {
   "cell_type": "code",
   "execution_count": 50,
   "id": "83115bf6-cc69-4f0d-b559-f0e0dbdcfef4",
   "metadata": {},
   "outputs": [
    {
     "name": "stdout",
     "output_type": "stream",
     "text": [
      "Model: \"model_1\"\n",
      "__________________________________________________________________________________________________\n",
      " Layer (type)                   Output Shape         Param #     Connected to                     \n",
      "==================================================================================================\n",
      " input_7 (InputLayer)           [(None, 512)]        0           []                               \n",
      "                                                                                                  \n",
      " input_8 (InputLayer)           [(None, 512)]        0           []                               \n",
      "                                                                                                  \n",
      " tf_distil_bert_model_4 (TFDist  TFBaseModelOutput(l  66362880   ['input_7[0][0]',                \n",
      " ilBertModel)                   ast_hidden_state=(N               'input_8[0][0]']                \n",
      "                                one, 512, 768),                                                   \n",
      "                                 hidden_states=None                                               \n",
      "                                , attentions=None)                                                \n",
      "                                                                                                  \n",
      " tf.__operators__.getitem_1 (Sl  (None, 768)         0           ['tf_distil_bert_model_4[0][0]'] \n",
      " icingOpLambda)                                                                                   \n",
      "                                                                                                  \n",
      " dense_2 (Dense)                (None, 512)          393728      ['tf.__operators__.getitem_1[0][0\n",
      "                                                                 ]']                              \n",
      "                                                                                                  \n",
      " dropout_96 (Dropout)           (None, 512)          0           ['dense_2[0][0]']                \n",
      "                                                                                                  \n",
      " dense_3 (Dense)                (None, 6)            3078        ['dropout_96[0][0]']             \n",
      "                                                                                                  \n",
      "==================================================================================================\n",
      "Total params: 66,759,686\n",
      "Trainable params: 66,759,686\n",
      "Non-trainable params: 0\n",
      "__________________________________________________________________________________________________\n",
      "None\n"
     ]
    }
   ],
   "source": [
    "model_S1=create_model()"
   ]
  },
  {
   "cell_type": "code",
   "execution_count": 51,
   "id": "d872c47b-f9e5-4f65-adba-84edaaed73f0",
   "metadata": {},
   "outputs": [],
   "source": [
    "#  learning rate recommandé pourl'optimizer Adam 5e-5, 3e-5, 2e-5: tiré du site Web huggingface\n",
    "\n",
    "loss = tf.keras.losses.SparseCategoricalCrossentropy()\n",
    "metric = tf.keras.metrics.SparseCategoricalAccuracy('accuracy')\n",
    "optimizer = tf.keras.optimizers.Adam(learning_rate=3e-5)\n",
    "\n",
    "early_stopping= EarlyStopping(patience=2,# stop après 3 epoch\n",
    "                              monitor='val_loss',# regarder la val_loss\n",
    "                              mode= 'min',\n",
    "                              min_delta=0,# changement après 0\n",
    "                              restore_best_weights=False,\n",
    "                              verbose=1)"
   ]
  },
  {
   "cell_type": "code",
   "execution_count": 52,
   "id": "f8663a6b-8970-4a70-955e-1b526569e49e",
   "metadata": {},
   "outputs": [
    {
     "name": "stdout",
     "output_type": "stream",
     "text": [
      "Epoch 1/10\n",
      "96/96 [==============================] - 2200s 23s/step - loss: 1.1792 - accuracy: 0.5649 - val_loss: 0.5820 - val_accuracy: 0.7846\n",
      "Epoch 2/10\n",
      "96/96 [==============================] - 2200s 23s/step - loss: 0.3950 - accuracy: 0.8688 - val_loss: 0.2208 - val_accuracy: 0.9166\n",
      "Epoch 3/10\n",
      "96/96 [==============================] - 2224s 23s/step - loss: 0.1890 - accuracy: 0.9312 - val_loss: 0.1938 - val_accuracy: 0.9186\n",
      "Epoch 4/10\n",
      "96/96 [==============================] - 2212s 23s/step - loss: 0.1241 - accuracy: 0.9519 - val_loss: 0.1812 - val_accuracy: 0.9343\n",
      "Epoch 5/10\n",
      "96/96 [==============================] - 2225s 23s/step - loss: 0.0943 - accuracy: 0.9621 - val_loss: 0.1988 - val_accuracy: 0.9304\n",
      "Epoch 6/10\n",
      "96/96 [==============================] - 2242s 23s/step - loss: 0.0781 - accuracy: 0.9688 - val_loss: 0.2361 - val_accuracy: 0.9357\n",
      "Epoch 6: early stopping\n"
     ]
    }
   ],
   "source": [
    "model_S1.compile(loss=loss,optimizer=optimizer, metrics=[metric])\n",
    "history=model_S1.fit([train_inp_S1,train_mask_S1],train_label_S1,batch_size=64,epochs=10,validation_data=([val_inp_S1,val_mask_S1],val_label_S1),callbacks=early_stopping)"
   ]
  },
  {
   "cell_type": "code",
   "execution_count": 53,
   "id": "7f7474e2-4d7f-404e-8547-b6bcfb21181f",
   "metadata": {},
   "outputs": [],
   "source": [
    "# sauvergade du modèle\n",
    "model_S1.save(\"myModel_S1.h5\")"
   ]
  },
  {
   "cell_type": "code",
   "execution_count": 54,
   "id": "7a744217-a8e4-47ed-9fc7-34d0764a04de",
   "metadata": {},
   "outputs": [],
   "source": [
    "def plot_history(train_history):\n",
    "    acc = history.history['accuracy']\n",
    "    val_acc = history.history['val_accuracy']\n",
    "    loss = history.history['loss']\n",
    "    val_loss = train_history.history['val_loss']\n",
    "    x = range(1, len(acc) + 1)\n",
    "\n",
    "    plt.figure(figsize=(12, 5))\n",
    "    plt.subplot(1, 2, 1)\n",
    "    plt.plot(x, acc, 'b', label='Training acc')\n",
    "    plt.plot(x, val_acc, 'r', label='Validation acc')\n",
    "    plt.title('Training and validation accuracy')\n",
    "    plt.legend()\n",
    "    plt.subplot(1, 2, 2)\n",
    "    plt.plot(x, loss, 'b', label='Training loss')\n",
    "    plt.plot(x, val_loss, 'r', label='Validation loss')\n",
    "    plt.title('Training and validation loss')\n",
    "    plt.legend()\n",
    "    print(\"Lowest Validation Loss: epoch {}\".format(np.argmin(val_loss)+1))\n",
    "    print(\"Highest Validation Accuracy: epoch {}\".format(np.argmax(val_acc)+1))"
   ]
  },
  {
   "cell_type": "code",
   "execution_count": 55,
   "id": "06dbdb10-35e4-41a8-b9d0-99a59e9e8f37",
   "metadata": {},
   "outputs": [
    {
     "name": "stdout",
     "output_type": "stream",
     "text": [
      "Lowest Validation Loss: epoch 4\n",
      "Highest Validation Accuracy: epoch 6\n"
     ]
    },
    {
     "data": {
      "image/png": "[encoded data removed]",
      "text/plain": [
       "<Figure size 1200x500 with 2 Axes>"
      ]
     },
     "metadata": {},
     "output_type": "display_data"
    }
   ],
   "source": [
    "\n",
    "plot_history(history)"
   ]
  },
  {
   "cell_type": "code",
   "execution_count": 56,
   "id": "07abb52f-aaf6-4859-a26e-48ab0b09bd60",
   "metadata": {},
   "outputs": [
    {
     "name": "stdout",
     "output_type": "stream",
     "text": [
      "96/96 [==============================] - 167s 2s/step\n"
     ]
    }
   ],
   "source": [
    "preds_S1 = model_S1.predict([val_inp_S1,val_mask_S1],batch_size=16)"
   ]
  },
  {
   "cell_type": "code",
   "execution_count": 57,
   "id": "4e7a346d-db68-4da7-a60e-5a9baa7945dd",
   "metadata": {},
   "outputs": [],
   "source": [
    "pred_labels_S1 = preds_S1.argmax(axis=1)"
   ]
  },
  {
   "cell_type": "code",
   "execution_count": 58,
   "id": "b72ce60f-909d-4df1-866a-5f274cb226d0",
   "metadata": {},
   "outputs": [
    {
     "name": "stdout",
     "output_type": "stream",
     "text": [
      "Classification Report\n",
      "              precision    recall  f1-score   support\n",
      "\n",
      "       anger       0.93      0.95      0.94       199\n",
      "        love       0.89      0.95      0.92       170\n",
      "         joy       0.93      0.97      0.95       535\n",
      "        fear       0.91      0.82      0.86       146\n",
      "     sadness       0.98      0.94      0.96       423\n",
      "    surprise       0.97      0.68      0.80        50\n",
      "\n",
      "    accuracy                           0.94      1523\n",
      "   macro avg       0.93      0.89      0.91      1523\n",
      "weighted avg       0.94      0.94      0.93      1523\n",
      "\n"
     ]
    }
   ],
   "source": [
    "# Rapport de classification avec régularisation\n",
    "\n",
    "target_names = ['anger', 'love', 'joy', 'fear', 'sadness', 'surprise']\n",
    "print('Classification Report')\n",
    "print(classification_report(val_label_S1,pred_labels_S1,target_names=target_names))"
   ]
  },
  {
   "cell_type": "code",
   "execution_count": 59,
   "id": "5cea4697-baea-45fc-9aa1-71a7bd3a156f",
   "metadata": {},
   "outputs": [
    {
     "name": "stderr",
     "output_type": "stream",
     "text": [
      "/tmp/ipykernel_5440/1214284912.py:4: MatplotlibDeprecationWarning: The seaborn styles shipped by Matplotlib are deprecated since 3.6, as they no longer correspond to the styles shipped by seaborn. However, they will remain available as 'seaborn-v0_8-<style>'. Alternatively, directly use the seaborn API instead.\n",
      "  plt.style.use('seaborn')\n"
     ]
    },
    {
     "data": {
      "image/png": "[encoded data removed]",
      "text/plain": [
       "<Figure size 800x550 with 2 Axes>"
      ]
     },
     "metadata": {},
     "output_type": "display_data"
    }
   ],
   "source": [
    "# Matrice de confusion\n",
    "from sklearn.metrics import confusion_matrix, classification_report\n",
    "import matplotlib.pyplot as plt\n",
    "plt.style.use('seaborn')\n",
    "import seaborn as sns\n",
    "\n",
    "cm = confusion_matrix(val_label_S1,pred_labels_S1,)\n",
    "# plot confusion matrix\n",
    "sns.heatmap(cm, annot=True, fmt='d',)\n",
    "plt.xlabel('Predicted')\n",
    "plt.ylabel('Truth')\n",
    "plt.show()"
   ]
  },
  {
   "cell_type": "code",
   "execution_count": 60,
   "id": "9e07ed60-8d13-412e-9464-d0fd0acd921b",
   "metadata": {},
   "outputs": [],
   "source": [
    "# Voir le taux de bonne prédictions VS le taux de mauvaise prédiction dans le sous_groupe S=1\n",
    "tpr=np.sum((pred_labels_S1.ravel()==1)*(val_label_S1.ravel()==1)) / np.sum(pred_labels_S1.ravel()==1)\n",
    "tnr=np.sum((pred_labels_S1.ravel()==0)*(val_label_S1.ravel()==0)) / np.sum(pred_labels_S1.ravel()==0)"
   ]
  },
  {
   "cell_type": "code",
   "execution_count": 61,
   "id": "7dab0fc2-9cf9-4c11-913e-f689817437ea",
   "metadata": {},
   "outputs": [
    {
     "name": "stdout",
     "output_type": "stream",
     "text": [
      "True positive rate = 0.8895027624309392\n",
      "True negative rate = 0.9313725490196079\n"
     ]
    }
   ],
   "source": [
    "print(\"True positive rate =\",tpr)\n",
    "print(\"True negative rate =\",tnr)"
   ]
  }
 ],
 "metadata": {
  "kernelspec": {
   "display_name": "Python 3 (ipykernel)",
   "language": "python",
   "name": "python3"
  },
  "language_info": {
   "codemirror_mode": {
    "name": "ipython",
    "version": 3
   },
   "file_extension": ".py",
   "mimetype": "text/x-python",
   "name": "python",
   "nbconvert_exporter": "python",
   "pygments_lexer": "ipython3",
   "version": "3.10.9"
  }
 },
 "nbformat": 4,
 "nbformat_minor": 5
}
